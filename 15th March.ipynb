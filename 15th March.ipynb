{
 "cells": [
  {
   "cell_type": "markdown",
   "id": "1975e002-c6b5-448f-892a-f4e8dc0cb536",
   "metadata": {},
   "source": [
    "Q1- Explain the following with an example\n",
    "1) Artificial Intelligence\n",
    "2) Machine Learning\n",
    "3) Deep Learning\n",
    "\n",
    "1)Artificial Intelligence:\n",
    "Artificial intelligence is simulation of human intelligence process by machines without human intervention.\n",
    "Eg: Self Driving car\n",
    "\n",
    "2)Machine Learning:\n",
    "A subset of AI which provides statstools to learn, analyze, visualize, and develop predictive models from the data.\n",
    "Eg: Chatbot\n",
    "\n",
    "3)Deep Learning:\n",
    "Subset of ML which mimics human brain, by using neural networks.\n",
    "Eg: Image recognization, Recommendation System\n",
    "    "
   ]
  },
  {
   "cell_type": "markdown",
   "id": "d88234cb-a6b4-499d-b9d7-657bbe839a2d",
   "metadata": {},
   "source": [
    "Q2- What is supervised Learning? List some examples of supervised learning.\n",
    "\n",
    "Supervised learning is the types of machine learning in which machines are trained using well \"labelled\" training data, and on basis of that data, \n",
    "machines predict the output. The labelled data means some input data is already tagged with the correct output.\n",
    "\n",
    "Example: House Price prediction\n"
   ]
  },
  {
   "cell_type": "markdown",
   "id": "7bbbab34-9836-4612-a3d6-8a445cf98f25",
   "metadata": {},
   "source": [
    "Q3- What is unsupervised Learning? List some exampless of unsupervised Learning.\n",
    "\n",
    "Unsupervised learning is when it can provide a set of unlabelled data, which it is required to analyze and find patterns inside. The examples are \n",
    "dimension reduction and clustering\n"
   ]
  },
  {
   "cell_type": "markdown",
   "id": "b4935108-2cc5-47e5-8758-4b232cc98955",
   "metadata": {},
   "source": [
    "Q4- What is thK difference between AI, ML, DL, and DS?\n",
    "\n",
    "Artificial Intelligence (AI) enables machines to think by understanding, learning from the data, and taking decisions based on patterns hidden in the\n",
    "data or make inferences that would otherwise be very difficult for humans to make manually. The end goal of using ML or DL is to create an AI \n",
    "application or machine as smart as humans.\n",
    "\n",
    "Machine Learning (ML) is a subset of AI; it provides us statistical tools/techniques like Supervised, Unsupervised, and Reinforcement learning to \n",
    "explore and analyze the data.\n",
    "\n",
    "Deep Learning (DL) is further a subset of ML, and the main idea behind it is to make machines learn by mimicking the human brain. Here, we create a \n",
    "multi neural network architecture with the help of different techniques like ANN, CNN, and RNN.\n",
    "\n",
    "Data Science (DS) is basically drawing insights from structured and unstructured data either by using ML or DL or without these techniques.\n"
   ]
  },
  {
   "cell_type": "markdown",
   "id": "fa785d1f-0310-4e95-b9d1-5f1abf90c40a",
   "metadata": {},
   "source": [
    "Q5- What are the main differences between supervised, unsupervised, and semi-supervised learning?\n",
    "\n",
    "Supervised: Supervised learning algorithms are trained using labeled data.Supervised learning model predicts the output.\n",
    "\n",
    "Unsupervised: Unsupervised learning algorithms are trained using unlabeled data.Unsupervised learning model finds the hidden patterns in data.\n",
    "\n",
    "Semi-supervised: Semi-supervised learning is a type of machine learning that falls in between supervised and unsupervised learning. It is a method \n",
    "that uses a small amount of labeled data and a large amount of unlabeled data to train a model.\n"
   ]
  },
  {
   "cell_type": "markdown",
   "id": "928b46a1-e9c3-49a5-b0b1-d3574150ac9e",
   "metadata": {},
   "source": [
    "Q6- What is train, test and validation split? Explain the importance of each term.\n",
    "\n",
    "Train: Dataset used for tranining the machine learning model.\n",
    "\n",
    "Validation: Validation split helps to improve the model performance by fine-tuning the model after each epoch.\n",
    "\n",
    "Test:The test set informs us about the final accuracy of the model after completing the training phase\n"
   ]
  },
  {
   "cell_type": "markdown",
   "id": "af7ec764-f5ae-404c-a05e-26f57ee1b5da",
   "metadata": {},
   "source": [
    "Q7- How can unsupervised learning be used in anomaly detection?\n",
    "\n",
    "For anomaly detection using unsupervised learning,there, we train a machine-learning model to fit to the normal behavior using an unlabeled dataset. In\n",
    "that process, we make an important assumption that the majority of the data in the training set are normal examples. However, there can be some \n",
    "anomalous data points among them (a small proportion). Then any data point which differs significantly from the normal behavior will be flagged as an\n",
    "anomaly. \n"
   ]
  },
  {
   "cell_type": "markdown",
   "id": "a15f7ebf-6a8d-4b9c-96df-83613bc470ec",
   "metadata": {},
   "source": [
    "Q8- List down some commonly used supervised learning algorithms and unsupervised learning algorithms?\n",
    "\n",
    "The most commonly used Supervised Learning algorithms are decision tree, logistic regression, linear regression, support vector machine. \n",
    "\n",
    "The most commonly used Unsupervised Learning algorithms are k-means clustering, hierarchical clustering, and apriori algorithm."
   ]
  },
  {
   "cell_type": "code",
   "execution_count": null,
   "id": "63fe8288-4527-4704-b6b5-eeb308555eb7",
   "metadata": {},
   "outputs": [],
   "source": []
  }
 ],
 "metadata": {
  "kernelspec": {
   "display_name": "Python 3 (ipykernel)",
   "language": "python",
   "name": "python3"
  },
  "language_info": {
   "codemirror_mode": {
    "name": "ipython",
    "version": 3
   },
   "file_extension": ".py",
   "mimetype": "text/x-python",
   "name": "python",
   "nbconvert_exporter": "python",
   "pygments_lexer": "ipython3",
   "version": "3.10.8"
  }
 },
 "nbformat": 4,
 "nbformat_minor": 5
}
