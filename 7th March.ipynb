{
 "cells": [
  {
   "cell_type": "markdown",
   "id": "52f7f202-dfa2-496f-9b08-56e4a304bd87",
   "metadata": {},
   "source": [
    "Q1. What are the three measures of central tendency?\n",
    "\n",
    "Mean,\n",
    "Median,\n",
    "Mode"
   ]
  },
  {
   "cell_type": "raw",
   "id": "2e4d8561-6911-4a34-8935-f332223c9c5e",
   "metadata": {},
   "source": [
    "Q2. What is the difference between the mean, median, and mode? How are they used to measure the\n",
    "central tendency of a dataset?\n",
    "\n",
    "Mean: Average of all elements present in a dataset\n",
    "Median: Middle value present in a dataset.\n",
    "Mode: most recurring value in a dataset.\n",
    "\n",
    "A measure of central tendency is a single value that attempts to describe a set of data by identifying the central position within that set of data\n"
   ]
  },
  {
   "cell_type": "code",
   "execution_count": 8,
   "id": "5040d5e3-7b17-4cc8-8c58-f416294d8f28",
   "metadata": {},
   "outputs": [
    {
     "name": "stdout",
     "output_type": "stream",
     "text": [
      "Mean = 177.01875\n",
      "Median = 177.0\n",
      "Mode = ModeResult(mode=array([177.]), count=array([3]))\n"
     ]
    },
    {
     "name": "stderr",
     "output_type": "stream",
     "text": [
      "/tmp/ipykernel_116/1910351787.py:9: FutureWarning: Unlike other reduction functions (e.g. `skew`, `kurtosis`), the default behavior of `mode` typically preserves the axis it acts along. In SciPy 1.11.0, this behavior will change: the default value of `keepdims` will become False, the `axis` over which the statistic is taken will be eliminated, and the value None will no longer be accepted. Set `keepdims` to True or False to avoid this warning.\n",
      "  mode_a = stats.mode(a)\n"
     ]
    }
   ],
   "source": [
    "# Q3. Measure the three measures of central tendency for the given height data:\n",
    "# [178,177,176,177,178.2,178,175,179,180,175,178.9,176.2,177,172.5,178,176.5]\n",
    "\n",
    "a = [178,177,176,177,178.2,178,175,179,180,175,178.9,176.2,177,172.5,178,176.5]\n",
    "import numpy as np\n",
    "from scipy import stats\n",
    "mean_a = np.mean(a)\n",
    "median_a = np.median(a)\n",
    "mode_a = stats.mode(a)\n",
    "\n",
    "print(\"Mean = {}\\nMedian = {}\\nMode = {}\".format(mean_a, median_a, mode_a))"
   ]
  },
  {
   "cell_type": "code",
   "execution_count": 10,
   "id": "c17aee1b-3264-4511-9f20-ed5241ac2f85",
   "metadata": {},
   "outputs": [
    {
     "name": "stdout",
     "output_type": "stream",
     "text": [
      "1.7885814036548633\n"
     ]
    }
   ],
   "source": [
    "# Q4. Find the standard deviation for the given data:\n",
    "# [178,177,176,177,178.2,178,175,179,180,175,178.9,176.2,177,172.5,178,176.5]\n",
    "\n",
    "data = [178,177,176,177,178.2,178,175,179,180,175,178.9,176.2,177,172.5,178,176.5]\n",
    "import numpy as np\n",
    "\n",
    "std = np.std(data)\n",
    "print(std)\n"
   ]
  },
  {
   "cell_type": "raw",
   "id": "b4d1f6a5-193b-449f-9f08-1af4cedb0053",
   "metadata": {},
   "source": [
    "Q5. How are measures of dispersion such as range, variance, and standard deviation used to describe\n",
    "the spread of a dataset? Provide an example.\n",
    "\n",
    "Measures of spread describe how similar or varied the set of observed values are for a particular variable (data item)\n",
    "\n",
    "Range: The difference between largest and smallest value in the dataset.\n",
    "Variance:Measurement of how far each value in dataset is from the mean value, and thus from every other element of the dataset.\n",
    "Standard Deviation: Square root of variance.\n",
    "\n",
    "\n"
   ]
  },
  {
   "cell_type": "markdown",
   "id": "4d851b84-08fb-4741-abc4-7e2a3ba7e16f",
   "metadata": {},
   "source": [
    "Q6. What is a Venn diagram?\n",
    "\n",
    "A type of diagram that uses overlapping circles to represent logical relationship between specific things"
   ]
  },
  {
   "cell_type": "code",
   "execution_count": 15,
   "id": "56f97205-70f4-472c-bb7c-663a95e26250",
   "metadata": {},
   "outputs": [
    {
     "name": "stdout",
     "output_type": "stream",
     "text": [
      "[ 0  2  3  4  5  6  7  8 10]\n",
      "[2 6]\n"
     ]
    }
   ],
   "source": [
    "# Q7. For the two given sets A = (2,3,4,5,6,7) & B = (0,2,6,8,10). Find:\n",
    "# (i) A B\n",
    "# (ii) A ⋃ B\n",
    "\n",
    "set_a = (2,3,4,5,6,7)\n",
    "set_b = (0,2,6,8,10)\n",
    "\n",
    "import numpy as np\n",
    "\n",
    "A_intersection_B = np.intersect1d(set_a, set_b)\n",
    "\n",
    "A_union_B = np.union1d(set_a, set_b)\n",
    "\n",
    "print(A_union_B)\n",
    "print(A_intersection_B)"
   ]
  },
  {
   "cell_type": "markdown",
   "id": "97235ed7-7e10-4025-9f45-5eabd195bb46",
   "metadata": {},
   "source": [
    "Q8. What do you understand about skewness in data?\n",
    "\n",
    "Skewness, in statistics, is the degree of asymmetry observed in a probability distribution.\n",
    "Distributions can exhibit right (positive) skewness or left (negative) skewness to varying degrees. A normal distribution (bell curve) exhibits zero\n",
    "skewness.\n"
   ]
  },
  {
   "cell_type": "markdown",
   "id": "ce2ee118-df02-4252-a143-834171519a0c",
   "metadata": {},
   "source": [
    "Q9. If a data is right skewed then what will be the position of median with respect to mean?\n",
    "\n",
    "Mean will be placed to left of mean\n"
   ]
  },
  {
   "cell_type": "markdown",
   "id": "0ee45aea-c863-4fa8-b46b-169c35f25385",
   "metadata": {},
   "source": [
    "Q10. Explain the difference between covariance and correlation. How are these measures used in\n",
    "statistical analysis?\n",
    "\n",
    "Covariance shows how two variables differ, and correlation shows how two variables are related.\n",
    "Covariance and correlation are two terms that are opposed and are both used in statistics and regression analysis\n"
   ]
  },
  {
   "cell_type": "code",
   "execution_count": 18,
   "id": "61999f78-0414-40d3-aef8-6eae5f99bad6",
   "metadata": {},
   "outputs": [
    {
     "data": {
      "text/plain": [
       "50.0"
      ]
     },
     "execution_count": 18,
     "metadata": {},
     "output_type": "execute_result"
    }
   ],
   "source": [
    "# Q11. What is the formula for calculating the sample mean? Provide an example calculation for a\n",
    "# dataset.\n",
    "\n",
    "data_set = [10,20,30,40,50,60,70,80,90]\n",
    "sample_mean = sum(data_set)/len(data_set)\n",
    "\n",
    "sample_mean\n",
    "\n"
   ]
  },
  {
   "cell_type": "markdown",
   "id": "f4389e38-5810-434f-80ca-81421716888b",
   "metadata": {},
   "source": [
    "Q12. For a normal distribution data what is the relationship between its measure of central tendency?\n",
    "\n",
    "mean = median = mode"
   ]
  },
  {
   "cell_type": "markdown",
   "id": "204687ae-17e6-4a3d-9e82-290c5f6a95d0",
   "metadata": {},
   "source": [
    "Q13. How is covariance different from correlation?\n",
    "\n",
    "Covariance shows how two variables differ, and correlation shows how two variables are related. Covariance and correlation are two terms that are opposed and are both used in statistics and regression \n",
    "analysis\n"
   ]
  },
  {
   "cell_type": "raw",
   "id": "67b47e36-dd70-4482-92de-f6726b7d215b",
   "metadata": {},
   "source": [
    "Q14. How do outliers affect measures of central tendency and dispersion? Provide an example.\n",
    "\n",
    "Outliers are numbers in a data set that are vastly larger or smaller than the other values in the set. Mean, median and mode are measures\n",
    "of central tendency. Mean is the only measure of central tendency that is always affected by an outlier.\n",
    "\n",
    "Outliers Measures of central tendency and dispersion can give misleading impressions of a data set if the set contains one or more outliers\n"
   ]
  },
  {
   "cell_type": "code",
   "execution_count": null,
   "id": "1c584395-6bde-4e89-9a94-17e0fd691d66",
   "metadata": {},
   "outputs": [],
   "source": []
  }
 ],
 "metadata": {
  "kernelspec": {
   "display_name": "Python 3 (ipykernel)",
   "language": "python",
   "name": "python3"
  },
  "language_info": {
   "codemirror_mode": {
    "name": "ipython",
    "version": 3
   },
   "file_extension": ".py",
   "mimetype": "text/x-python",
   "name": "python",
   "nbconvert_exporter": "python",
   "pygments_lexer": "ipython3",
   "version": "3.10.8"
  }
 },
 "nbformat": 4,
 "nbformat_minor": 5
}
