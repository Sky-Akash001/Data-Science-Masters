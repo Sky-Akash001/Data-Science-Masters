{
 "cells": [
  {
   "cell_type": "markdown",
   "id": "f075c69a-c588-4408-8ebd-4d4d2d29ca5d",
   "metadata": {},
   "source": [
    "Q1. You are writing code for a company. The requirement of the company is that you create a python  function that will check whether the password entered by the user is correct or not. The function should  take the password as input and return the string “Valid Password” if the entered password follows the  below-given password guidelines else it should return “Invalid Password”. \n",
    "Note: 1. The Password should contain at least two uppercase letters and at least two lowercase letters. 2. The Password should contain at least a number and three special characters. \n",
    "3. The length of the password should be 10 characters long. \n"
   ]
  },
  {
   "cell_type": "code",
   "execution_count": 9,
   "id": "3476f71e-c117-4c2e-93df-125c9cce6f3b",
   "metadata": {},
   "outputs": [
    {
     "name": "stdin",
     "output_type": "stream",
     "text": [
      "Enter password AK@#$%12as\n"
     ]
    },
    {
     "name": "stdout",
     "output_type": "stream",
     "text": [
      "Valid Password\n"
     ]
    }
   ],
   "source": [
    "def countall(pw):\n",
    "    countup = 0\n",
    "    countlw = 0\n",
    "    countsp = 0\n",
    "    countnum = 0\n",
    "    for x in pw:\n",
    "        if x.isupper():\n",
    "            countup += 1\n",
    "        elif x.islower():\n",
    "            countlw += 1\n",
    "        elif x in (\"@\",\"#\",\"$\",\"%\",\"&\"):\n",
    "            countsp += 1\n",
    "        elif x.isnumeric():\n",
    "            countnum += 1\n",
    "    if (countup>=2 and countlw >=2 and countsp>=3 and countnum >=1):\n",
    "        return True\n",
    "    else:\n",
    "        return False\n",
    "\n",
    "\n",
    "def fn_check(pw):\n",
    "    if len(pw)<10:\n",
    "        return \"Invalid Password\"\n",
    "    if countall(pw):\n",
    "        return \"Valid Password\"\n",
    "\n",
    "inp = input(\"Enter password\")\n",
    "print(fn_check(inp))"
   ]
  },
  {
   "cell_type": "raw",
   "id": "623fcb3a-f950-461c-b19c-db18f961a2cf",
   "metadata": {},
   "source": [
    "\n",
    "\n",
    "Q2. Solve the below-given questions using at least one of the following:\n",
    "1. Lambda function\n",
    "2. Filter function\n",
    "3. Map function\n",
    "4. List Comprehension\n",
    "\n",
    "A) Check if the string starts with a particular letter\n",
    "B) Check if the string is numeric\n",
    "C) Sort a list of tuples having fruit names and their quantity. [(\"mango\",99),(\"orange\",80), (\"grapes\", 1000)]\n",
    "D) Find the squares of numbers from 1 to 10\n",
    "E) Find the cube root of numbers from 1 to 10\n",
    "F) Check if a given number is even\n",
    "G) Filter odd numbers from the given list.\n",
    "   [1,2,3,4,5,6,7,8,9,10]\n",
    "H) Sort a list of integers into positive and negative integers lists.\n",
    "   [1,2,3,4,5,6,-1,-2,-3,-4,-5,0]"
   ]
  },
  {
   "cell_type": "code",
   "execution_count": 16,
   "id": "e539bb7b-84f3-46f4-ae82-2a692ad7653e",
   "metadata": {},
   "outputs": [
    {
     "name": "stdin",
     "output_type": "stream",
     "text": [
      "Enter string to be checked Akash\n",
      "Enter starting letter A\n"
     ]
    },
    {
     "name": "stdout",
     "output_type": "stream",
     "text": [
      "True\n"
     ]
    }
   ],
   "source": [
    "# A) Check if the string starts with a particular letter\n",
    "inp = input(\"Enter string to be checked\")\n",
    "letter = input(\"Enter starting letter\")\n",
    "\n",
    "a = lambda string, letter :string[0] == letter\n",
    "print(a(inp, letter))\n"
   ]
  },
  {
   "cell_type": "code",
   "execution_count": 21,
   "id": "04258bb1-6773-4d9b-b781-9d3c8f94f660",
   "metadata": {},
   "outputs": [
    {
     "name": "stdin",
     "output_type": "stream",
     "text": [
      "Enter string to be checked 12345\n"
     ]
    },
    {
     "name": "stdout",
     "output_type": "stream",
     "text": [
      "Numeric\n"
     ]
    }
   ],
   "source": [
    "# B) Check if the string is numeric\n",
    "inp = input(\"Enter string to be checked\")\n",
    "ans = lambda inp:(inp.isnumeric())\n",
    "if ans(inp):\n",
    "    print(\"Numeric\")\n",
    "else:\n",
    "    print(\"Non numeric\")"
   ]
  },
  {
   "cell_type": "code",
   "execution_count": 13,
   "id": "0524a199-77f3-4fde-b3ce-f021111ef56c",
   "metadata": {},
   "outputs": [
    {
     "name": "stdout",
     "output_type": "stream",
     "text": [
      "[('orange', 80), ('mango', 99), ('grapes', 1000)]\n",
      "[('orange', 80), ('mango', 99), ('grapes', 1000)]\n"
     ]
    }
   ],
   "source": [
    "# C)Sort a list of tuples having fruit names and their quantity. [(\"mango\",99),(\"orange\",80), (\"grapes\", 1000)]\n",
    "\n",
    "lst = [(\"mango\",99),(\"orange\",80), (\"grapes\", 1000)]\n",
    "l = len(lst)\n",
    "for i in range(l-1):\n",
    "    if (lst[i][1]>lst[i+1][1]):\n",
    "        tmp = lst[i]\n",
    "        lst[i],lst[i+1] = lst[i+1], tmp\n",
    "print(lst)\n",
    "\n",
    "#using lambda function\n",
    "lst = [(\"mango\",99),(\"orange\",80), (\"grapes\", 1000)]\n",
    "lst.sort(key = lambda x:x[1])\n",
    "print(lst)"
   ]
  },
  {
   "cell_type": "code",
   "execution_count": 23,
   "id": "5389b70f-de40-43d6-b8f6-a7148883a9f8",
   "metadata": {},
   "outputs": [
    {
     "name": "stdout",
     "output_type": "stream",
     "text": [
      "[1, 4, 9, 16, 25, 36, 49, 64, 81, 100]\n"
     ]
    }
   ],
   "source": [
    "# D) Find the squares of numbers from 1 to 10\n",
    "\n",
    "ans = [x*x for x in range(1,11)]\n",
    "print(ans)"
   ]
  },
  {
   "cell_type": "code",
   "execution_count": 25,
   "id": "037ce841-7188-4fef-8314-777e7c97fec4",
   "metadata": {},
   "outputs": [
    {
     "name": "stdout",
     "output_type": "stream",
     "text": [
      "[1.0, 1.2599210498948732, 1.4422495703074083, 1.5874010519681994, 1.7099759466766968, 1.8171205928321397, 1.912931182772389, 2.0, 2.080083823051904, 2.154434690031884]\n"
     ]
    }
   ],
   "source": [
    "# E) Find the cube root of numbers from 1 to 10\n",
    "\n",
    "ans = [x**(1/3) for x in range(1,11)]\n",
    "print(ans)"
   ]
  },
  {
   "cell_type": "code",
   "execution_count": null,
   "id": "5d0b4708-7b71-4bd4-9c47-d5f5d01b7e62",
   "metadata": {},
   "outputs": [],
   "source": [
    "# F) Check if a given number is even\n",
    "\n",
    "even = lambda x:x%2 == 0\n",
    "even(if (input(\"Enter number\")) \n"
   ]
  },
  {
   "cell_type": "code",
   "execution_count": 1,
   "id": "de5080e5-e960-4e60-98f5-d7e4b511449e",
   "metadata": {},
   "outputs": [
    {
     "name": "stdout",
     "output_type": "stream",
     "text": [
      "[1, 3, 5, 7, 9]\n"
     ]
    }
   ],
   "source": [
    "# G)Filter odd numbers from the given list. [1,2,3,4,5,6,7,8,9,10]\n",
    "list1 = [1,2,3,4,5,6,7,8,9,10]\n",
    "odd_list = [x for x in list1 if x % 2!= 0]\n",
    "print(odd_list)"
   ]
  },
  {
   "cell_type": "code",
   "execution_count": 9,
   "id": "3d760e2b-9951-4ff7-894d-e712a3274135",
   "metadata": {},
   "outputs": [
    {
     "name": "stdout",
     "output_type": "stream",
     "text": [
      "[-1, -2, -3, -4, -5, 1, 2, 3, 4, 5, 6, 0]\n"
     ]
    }
   ],
   "source": [
    "# H) Sort a list of integers into positive and negative integers lists. [1,2,3,4,5,6,-1,-2,-3,-4,-5,0]\n",
    "list1 = [1,2,3,4,5,6,-1,-2,-3,-4,-5,0]\n",
    "negative_list = list(filter(lambda x:x<0, list1))\n",
    "positive_list = list(filter(lambda x:x>=0,list1))\n",
    "print(negative_list + positive_list)"
   ]
  },
  {
   "cell_type": "code",
   "execution_count": null,
   "id": "60d41c95-bd31-4d9b-8f03-36327903282d",
   "metadata": {},
   "outputs": [],
   "source": []
  }
 ],
 "metadata": {
  "kernelspec": {
   "display_name": "Python 3 (ipykernel)",
   "language": "python",
   "name": "python3"
  },
  "language_info": {
   "codemirror_mode": {
    "name": "ipython",
    "version": 3
   },
   "file_extension": ".py",
   "mimetype": "text/x-python",
   "name": "python",
   "nbconvert_exporter": "python",
   "pygments_lexer": "ipython3",
   "version": "3.10.8"
  }
 },
 "nbformat": 4,
 "nbformat_minor": 5
}
