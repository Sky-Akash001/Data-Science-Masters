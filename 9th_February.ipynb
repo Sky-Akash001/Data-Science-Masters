{
 "cells": [
  {
   "cell_type": "markdown",
   "id": "fe4583c0-4ab4-4f24-bbc5-55b854735e1c",
   "metadata": {},
   "source": [
    "Q1, Create a vehicle class with an init method having instance variables as name_of_vehicle, max_speed  and average_of_vehicle.  \n",
    "\n"
   ]
  },
  {
   "cell_type": "code",
   "execution_count": 3,
   "id": "fdbf7123-9d4b-49d0-b13b-9b9257a6042e",
   "metadata": {},
   "outputs": [],
   "source": [
    "class vechile:\n",
    "    def __init__(self, name_of_vechile, max_speed, average_of_vechile):\n",
    "        self.name_of_vechile = name_of_vechile\n",
    "        self.max_speed = max_speed\n",
    "        self.average_of_vechile = average_of_vechile\n",
    "        \n",
    "    "
   ]
  },
  {
   "cell_type": "markdown",
   "id": "c6b062a1-8942-4ea4-ba9d-c871980c2de7",
   "metadata": {},
   "source": [
    "Q2.  Create a child class car from the vehicle class created in Que 1, which will inherit the vehicle class.  Create a method named seating_capacity which takes capacity as an argument and returns the name of  the vehicle and its seating capacity. \n"
   ]
  },
  {
   "cell_type": "code",
   "execution_count": 13,
   "id": "09d1cf6a-9d54-4304-a3c2-ca54ab058dd9",
   "metadata": {},
   "outputs": [
    {
     "data": {
      "text/plain": [
       "('Audi', 4)"
      ]
     },
     "execution_count": 13,
     "metadata": {},
     "output_type": "execute_result"
    }
   ],
   "source": [
    "class car(vechile):\n",
    "    def seating_capacity(self, capacity):\n",
    "        self.capacity = capacity\n",
    "        return self.name_of_vechile, self.capacity\n",
    "    \n",
    "car_obj = car(\"Audi\", 150,15)\n",
    "car_obj.seating_capacity(4)\n",
    "\n",
    "    "
   ]
  },
  {
   "cell_type": "markdown",
   "id": "b07ff475-dcd4-4372-a6ec-d42cc54483ab",
   "metadata": {},
   "source": [
    "Q3. What is multiple inheritance? Write a python code to demonstrate multiple inheritance. \n"
   ]
  },
  {
   "cell_type": "code",
   "execution_count": 17,
   "id": "1557cf80-d057-45a6-bac4-4d4ae23a39d0",
   "metadata": {},
   "outputs": [
    {
     "name": "stdout",
     "output_type": "stream",
     "text": [
      "Address is India,Karnataka,Bangalore\n"
     ]
    }
   ],
   "source": [
    "'''In multiple inheritance, child class is inheriting properties from more than one parent class'''\n",
    "\n",
    "class country:\n",
    "    def c_name(self, country_name):\n",
    "        self.country_name = country_name\n",
    "\n",
    "class state:\n",
    "    def s_name(self, state_name):\n",
    "        self.state_name = state_name\n",
    "        \n",
    "class town(country,state):\n",
    "    def __init__(self, town_name):\n",
    "        self.town_name = town_name\n",
    "    def display(self):\n",
    "        print(\"Address is {},{},{}\".format(self.c_name, self.s_name,self.town_name))\n",
    "        \n",
    "Add = town(\"Bangalore\")\n",
    "Add.s_name = \"Karnataka\"\n",
    "Add.c_name = \"India\"\n",
    "\n",
    "Add.display()\n",
    "\n",
    "        \n"
   ]
  },
  {
   "cell_type": "markdown",
   "id": "5c6cbb27-1dc7-405b-adea-eb0004d42bd7",
   "metadata": {},
   "source": [
    "Q4. What are getter and setter in python? Create a class and create a getter and a setter method in this  class. \n"
   ]
  },
  {
   "cell_type": "code",
   "execution_count": 19,
   "id": "4b059796-dc72-4e4b-8710-f2a792b1b3b6",
   "metadata": {},
   "outputs": [
    {
     "name": "stdout",
     "output_type": "stream",
     "text": [
      "Balance is 50000\n",
      "New Balance is 100000\n"
     ]
    }
   ],
   "source": [
    "\"\"\"Getter and Setter methods are used in class to allow users to access class variables along with concept of encapsulation\"\"\"\n",
    "class Bank:\n",
    "    def __init__(self, balance):\n",
    "        self.balance = balance\n",
    "        \n",
    "    def getBalance(self):\n",
    "        return self.balance\n",
    "    \n",
    "    def setBalance(self, balance):\n",
    "        self.balance = balance\n",
    "        \n",
    "Customer = Bank(50000)\n",
    "print(\"Balance is {}\".format(Customer.getBalance()))\n",
    "Customer.setBalance(100000)\n",
    "print(\"New Balance is {}\".format(Customer.getBalance()))\n",
    "\n",
    "        "
   ]
  },
  {
   "cell_type": "markdown",
   "id": "ba7a659c-fd15-45b3-907f-970edf19e439",
   "metadata": {},
   "source": [
    "Q5.What is method overriding in python? Write a python code to demonstrate method overriding."
   ]
  },
  {
   "cell_type": "code",
   "execution_count": 1,
   "id": "7f5f1da9-f60e-4001-8f56-919c9f1b9ea4",
   "metadata": {},
   "outputs": [
    {
     "name": "stdout",
     "output_type": "stream",
     "text": [
      "This is an Animal\n",
      "This is an Elephant animal\n"
     ]
    }
   ],
   "source": [
    "'''Changing Functionaoty of a function within child class is called overriding'''\n",
    "\n",
    "class Animal:\n",
    "    def __init__(self, type):\n",
    "        self.type = type\n",
    "        \n",
    "    def display(self):\n",
    "        print(\"This is an {}\".format(self.type))\n",
    "        \n",
    "class Elephant(Animal):\n",
    "    def __init__(self, type):\n",
    "        self.type = type\n",
    "        \n",
    "    def display(self):\n",
    "        print(\"This is an {} animal\".format(self.type))\n",
    "        \n",
    "An = Animal(\"Animal\")\n",
    "El = Elephant(\"Elephant\")\n",
    "An.display()\n",
    "El.display()\n",
    "\n",
    "        \n",
    "        "
   ]
  },
  {
   "cell_type": "code",
   "execution_count": null,
   "id": "059646be-0645-40b3-80a4-cc7902213939",
   "metadata": {},
   "outputs": [],
   "source": []
  }
 ],
 "metadata": {
  "kernelspec": {
   "display_name": "Python 3 (ipykernel)",
   "language": "python",
   "name": "python3"
  },
  "language_info": {
   "codemirror_mode": {
    "name": "ipython",
    "version": 3
   },
   "file_extension": ".py",
   "mimetype": "text/x-python",
   "name": "python",
   "nbconvert_exporter": "python",
   "pygments_lexer": "ipython3",
   "version": "3.10.8"
  }
 },
 "nbformat": 4,
 "nbformat_minor": 5
}
