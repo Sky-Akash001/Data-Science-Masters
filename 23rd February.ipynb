{
 "cells": [
  {
   "cell_type": "markdown",
   "id": "023d1ea1-5389-49f6-9470-5f3a49b05693",
   "metadata": {},
   "source": [
    "Q1. Create a Pandas Series that contains the following data: 4, 8, 15, 16, 23, and 42. Then, print the series.\n"
   ]
  },
  {
   "cell_type": "code",
   "execution_count": 4,
   "id": "ebf0ed85-a581-4ea0-b3aa-d41ab281b4e8",
   "metadata": {},
   "outputs": [
    {
     "data": {
      "text/plain": [
       "0     4\n",
       "1     8\n",
       "2    15\n",
       "3    16\n",
       "4    23\n",
       "5    42\n",
       "dtype: int64"
      ]
     },
     "execution_count": 4,
     "metadata": {},
     "output_type": "execute_result"
    }
   ],
   "source": [
    "import pandas as pd\n",
    "\n",
    "list1 = [4,8,15,16,23,42]\n",
    "series = pd.Series(list1)\n",
    "series"
   ]
  },
  {
   "cell_type": "markdown",
   "id": "5efc9837-9ee5-4680-904c-3d772ec73f51",
   "metadata": {},
   "source": [
    "Q2. Create a variable of list type containing 10 elements in it, and apply pandas.Series function on the\n",
    "variable print it.\n"
   ]
  },
  {
   "cell_type": "code",
   "execution_count": 9,
   "id": "9ef273af-7250-4c68-817d-8c79129286f7",
   "metadata": {},
   "outputs": [
    {
     "data": {
      "text/plain": [
       "0     2\n",
       "1     4\n",
       "2     6\n",
       "3     8\n",
       "4    10\n",
       "5    12\n",
       "6    14\n",
       "7    16\n",
       "8    18\n",
       "9    20\n",
       "dtype: int64"
      ]
     },
     "execution_count": 9,
     "metadata": {},
     "output_type": "execute_result"
    }
   ],
   "source": [
    "import pandas as pd\n",
    "list2 = [x for x in range(2,21,2)]\n",
    "\n",
    "series2 = pd.Series(list2)\n",
    "series2"
   ]
  },
  {
   "cell_type": "raw",
   "id": "f9db2e11-866a-4f63-9544-8e39e1f6f9e0",
   "metadata": {},
   "source": [
    "Q3. Create a Pandas DataFrame that contains the following data:\n",
    "\n",
    "Name    Age    Gender\n",
    "Alice   25     Female\n",
    "Bob     30     Male\n",
    "Claire  27     Female\n",
    "\n",
    "Then, print the DataFrame.\n"
   ]
  },
  {
   "cell_type": "code",
   "execution_count": 2,
   "id": "6b860a67-1f3f-4109-b473-285308f1984d",
   "metadata": {},
   "outputs": [
    {
     "data": {
      "text/html": [
       "<div>\n",
       "<style scoped>\n",
       "    .dataframe tbody tr th:only-of-type {\n",
       "        vertical-align: middle;\n",
       "    }\n",
       "\n",
       "    .dataframe tbody tr th {\n",
       "        vertical-align: top;\n",
       "    }\n",
       "\n",
       "    .dataframe thead th {\n",
       "        text-align: right;\n",
       "    }\n",
       "</style>\n",
       "<table border=\"1\" class=\"dataframe\">\n",
       "  <thead>\n",
       "    <tr style=\"text-align: right;\">\n",
       "      <th></th>\n",
       "      <th>Name</th>\n",
       "      <th>Age</th>\n",
       "      <th>Gender</th>\n",
       "    </tr>\n",
       "  </thead>\n",
       "  <tbody>\n",
       "    <tr>\n",
       "      <th>0</th>\n",
       "      <td>Alice</td>\n",
       "      <td>25</td>\n",
       "      <td>Female</td>\n",
       "    </tr>\n",
       "    <tr>\n",
       "      <th>1</th>\n",
       "      <td>Bob</td>\n",
       "      <td>30</td>\n",
       "      <td>Male</td>\n",
       "    </tr>\n",
       "    <tr>\n",
       "      <th>2</th>\n",
       "      <td>Claire</td>\n",
       "      <td>27</td>\n",
       "      <td>Female</td>\n",
       "    </tr>\n",
       "  </tbody>\n",
       "</table>\n",
       "</div>"
      ],
      "text/plain": [
       "     Name  Age  Gender\n",
       "0   Alice   25  Female\n",
       "1     Bob   30    Male\n",
       "2  Claire   27  Female"
      ]
     },
     "execution_count": 2,
     "metadata": {},
     "output_type": "execute_result"
    }
   ],
   "source": [
    "data = {\"Name\":[\"Alice\",\"Bob\",\"Claire\"],\"Age\":[25,30,27],\"Gender\":[\"Female\",\"Male\",\"Female\"]}\n",
    "\n",
    "import pandas as pd\n",
    "df = pd.DataFrame(data)\n",
    "df"
   ]
  },
  {
   "cell_type": "markdown",
   "id": "87068bd8-9c3b-4046-ae35-6e1b2593b9ff",
   "metadata": {},
   "source": [
    "Q4. What is ‘DataFrame’ in pandas and how is it different from pandas.series? Explain with an example.\n"
   ]
  },
  {
   "cell_type": "raw",
   "id": "4147f754-4146-4ad5-a759-dbe61470c326",
   "metadata": {},
   "source": [
    "A Pandas DataFrame is a 2 dimensional data structure, like a 2 dimensional array, or a table with rows and columns.\n",
    "\n",
    "Difference between a pandas series and dataframe are:\n",
    "Series is one dimensional, but dataframe is multidimensional\n",
    "Series contain homogenous data, but dataframe contain heterogenous data\n",
    "Size of a series is immutable, but size of a dataframe can be changes."
   ]
  },
  {
   "cell_type": "markdown",
   "id": "48301953-a5a4-466c-a5a3-89ea94682853",
   "metadata": {},
   "source": [
    "Q5. What are some common functions you can use to manipulate data in a Pandas DataFrame? Can\n",
    "you give an example of when you might use one of these functions?\n"
   ]
  },
  {
   "cell_type": "code",
   "execution_count": 15,
   "id": "43fe8a56-dc09-432a-986d-64e5169dd3b5",
   "metadata": {},
   "outputs": [
    {
     "name": "stdout",
     "output_type": "stream",
     "text": [
      "  Subjects  Student1  Student2  Student3\n",
      "0  English        10         8         8\n",
      "1    Hindi         9         9         8\n",
      "2    Maths         8        10         9\n",
      "3  Science         7         7         7\n",
      "        Student1   Student2  Student3\n",
      "count   4.000000   4.000000  4.000000\n",
      "mean    8.500000   8.500000  8.000000\n",
      "std     1.290994   1.290994  0.816497\n",
      "min     7.000000   7.000000  7.000000\n",
      "25%     7.750000   7.750000  7.750000\n",
      "50%     8.500000   8.500000  8.000000\n",
      "75%     9.250000   9.250000  8.250000\n",
      "max    10.000000  10.000000  9.000000\n",
      "(4, 4)\n"
     ]
    }
   ],
   "source": [
    "import pandas as pd\n",
    "\n",
    "data1 = {\"Subjects\":[\"English\",\"Hindi\",\"Maths\",\"Science\"],\"Student1\":[10,9,8,7],\"Student2\":[8,9,10,7],\"Student3\":[8,8,9,7]}\n",
    "df3 = pd.DataFrame(data1)\n",
    "\n",
    "print(df3.head())\n",
    "print(df3.describe())\n",
    "print(df3.shape)"
   ]
  },
  {
   "cell_type": "markdown",
   "id": "53ba92cb-b531-41ee-8775-e04f16aea955",
   "metadata": {},
   "source": [
    "Q6. Which of the following is mutable in nature Series, DataFrame, Panel?\n"
   ]
  },
  {
   "cell_type": "raw",
   "id": "796249b3-a358-406b-b663-b565c52e1183",
   "metadata": {},
   "source": [
    "All three Series, DataFrame, and Panel are value mutable, but Series is not size mutable, but we can change of DataFrame and Panel"
   ]
  },
  {
   "cell_type": "markdown",
   "id": "ffc50fd0-34ee-440d-84de-ff3d086d8678",
   "metadata": {},
   "source": [
    "Q7. Create a DataFrame using multiple Series. Explain with an example."
   ]
  },
  {
   "cell_type": "code",
   "execution_count": 13,
   "id": "b9359516-fd22-4c51-b805-5c77a4d1b6bd",
   "metadata": {},
   "outputs": [
    {
     "data": {
      "text/html": [
       "<div>\n",
       "<style scoped>\n",
       "    .dataframe tbody tr th:only-of-type {\n",
       "        vertical-align: middle;\n",
       "    }\n",
       "\n",
       "    .dataframe tbody tr th {\n",
       "        vertical-align: top;\n",
       "    }\n",
       "\n",
       "    .dataframe thead th {\n",
       "        text-align: right;\n",
       "    }\n",
       "</style>\n",
       "<table border=\"1\" class=\"dataframe\">\n",
       "  <thead>\n",
       "    <tr style=\"text-align: right;\">\n",
       "      <th></th>\n",
       "      <th>Subjects</th>\n",
       "      <th>Student1_Marks</th>\n",
       "      <th>Student_Marks</th>\n",
       "      <th>Student3_Marks</th>\n",
       "    </tr>\n",
       "  </thead>\n",
       "  <tbody>\n",
       "    <tr>\n",
       "      <th>0</th>\n",
       "      <td>Science</td>\n",
       "      <td>48</td>\n",
       "      <td>42</td>\n",
       "      <td>44</td>\n",
       "    </tr>\n",
       "    <tr>\n",
       "      <th>1</th>\n",
       "      <td>Maths</td>\n",
       "      <td>47</td>\n",
       "      <td>41</td>\n",
       "      <td>40</td>\n",
       "    </tr>\n",
       "    <tr>\n",
       "      <th>2</th>\n",
       "      <td>English</td>\n",
       "      <td>49</td>\n",
       "      <td>43</td>\n",
       "      <td>41</td>\n",
       "    </tr>\n",
       "    <tr>\n",
       "      <th>3</th>\n",
       "      <td>Hindi</td>\n",
       "      <td>45</td>\n",
       "      <td>44</td>\n",
       "      <td>40</td>\n",
       "    </tr>\n",
       "  </tbody>\n",
       "</table>\n",
       "</div>"
      ],
      "text/plain": [
       "  Subjects  Student1_Marks  Student_Marks  Student3_Marks\n",
       "0  Science              48             42              44\n",
       "1    Maths              47             41              40\n",
       "2  English              49             43              41\n",
       "3    Hindi              45             44              40"
      ]
     },
     "execution_count": 13,
     "metadata": {},
     "output_type": "execute_result"
    }
   ],
   "source": [
    "import pandas as pd\n",
    "\n",
    "l1 = [\"Science\",\"Maths\",\"English\",\"Hindi\"]\n",
    "l2 = [48,47,49,45]\n",
    "l3 = [42,41,43,44]\n",
    "l4 = [44,40,41,40]\n",
    "\n",
    "s1 = pd.Series(l1)\n",
    "s2 = pd.Series(l2)\n",
    "s3 = pd.Series(l3)\n",
    "s4 = pd.Series(l4)\n",
    "\n",
    "df = pd.DataFrame({\"Subjects\":s1,\"Student1_Marks\":s2,\"Student_Marks\":s3,\"Student3_Marks\":s4})\n",
    "df"
   ]
  },
  {
   "cell_type": "code",
   "execution_count": null,
   "id": "277e3a40-7368-46d9-bcbb-16db61070add",
   "metadata": {},
   "outputs": [],
   "source": []
  }
 ],
 "metadata": {
  "kernelspec": {
   "display_name": "Python 3 (ipykernel)",
   "language": "python",
   "name": "python3"
  },
  "language_info": {
   "codemirror_mode": {
    "name": "ipython",
    "version": 3
   },
   "file_extension": ".py",
   "mimetype": "text/x-python",
   "name": "python",
   "nbconvert_exporter": "python",
   "pygments_lexer": "ipython3",
   "version": "3.10.8"
  }
 },
 "nbformat": 4,
 "nbformat_minor": 5
}
