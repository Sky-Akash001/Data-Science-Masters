{
 "cells": [
  {
   "cell_type": "markdown",
   "id": "37c947ae-529f-4526-9961-ca04d3f64464",
   "metadata": {},
   "source": [
    "Q1. What is Statistics?\n",
    "\n",
    "Statistics is the science of collecting, organising and analyzing data\n"
   ]
  },
  {
   "cell_type": "raw",
   "id": "e5bb89fd-9c82-4fe4-88da-56d83ac7327e",
   "metadata": {},
   "source": [
    "Q2. Define the different types of statistics and give an example of when each type might be used.\n",
    "\n",
    "There are two types of Statistics:\n",
    "a) Discriptive Statistics:\n",
    "   It deals with collecting and organizing the data\n",
    "   \n",
    "   We do measure of central tendency and measure of dispersion\n",
    "   \n",
    "b) Inferential Statistics:\n",
    "   It deals with deriving insights from data that has been collected\n",
    "   \n",
    "   We do hypothesis testing and regression analysis\n"
   ]
  },
  {
   "cell_type": "raw",
   "id": "1d2498d6-c258-466c-9f9d-9aa97221c59f",
   "metadata": {},
   "source": [
    "Q3. What are the different types of data and how do they differ from each other? Provide an example of\n",
    "each type of data.\n",
    "\n",
    "Data can be classified in two categories:\n",
    "a) Quantative Data:\n",
    "    It deals with neumerical values\n",
    "    Its further of two types:\n",
    "        Discrete: Whole number values in a range like 1,3,5,8\n",
    "        Continous: Continous fluctuating values like 1.2, 2.1..\n",
    "        \n",
    "b) Qualitative Data:\n",
    "    Data about measure of types represented by name, symbol or number code\n",
    "    \n",
    "    Its of two types:\n",
    "    Nominal: It is classified with any interensic rank or order. Example: Gender, Blood Group\n",
    "    Ordinal: It has some predetermined or natural order in data. Example: Ratings of food\n",
    "    \n"
   ]
  },
  {
   "cell_type": "raw",
   "id": "ceddd694-fb3e-4aa5-8a7c-f5b53368b6c6",
   "metadata": {},
   "source": [
    "Q4. Categorise the following datasets with respect to quantitative and qualitative data types:\n",
    "(i) Grading in exam: A+, A, B+, B, C+, C, D, E\n",
    "(ii) Colour of mangoes: yellow, green, orange, red\n",
    "(iii) Height data of a class: [178.9, 179, 179.5, 176, 177.2, 178.3, 175.8,...]\n",
    "(iv) Number of mangoes exported by a farm: [500, 600, 478, 672, ...]\n",
    "\n",
    "(i) Ordinal\n",
    "(ii) Nominal\n",
    "(iii)Continous\n",
    "(iv) Discrete"
   ]
  },
  {
   "cell_type": "raw",
   "id": "01182c3c-ccfa-490a-a5bd-4a831dbc47c5",
   "metadata": {},
   "source": [
    "Q5. Explain the concept of levels of measurement and give an example of a variable for each level.\n",
    "\n",
    "There are four level of measurement:\n",
    "    \n",
    "i) Nominal Scale of Data:\n",
    "   Data can be organized into categories but order or ranking doesn't exist\n",
    "   Example: Gender, Blood Group\n",
    "    \n",
    "ii) Ordinal Scale of Data:\n",
    "    Data can be organized into categories and some rank or order can be given to them, but difference between two categories can't be calculated.\n",
    "    Example: Food Rating, Class Ranking\n",
    "    \n",
    "iii) Interval Scale of Data:\n",
    "    Data can be organized in categories, and rank can be given to them, and difference between two categories can be calculated, but we can't derive ratio \n",
    "    between two categories.\n",
    "    Example: Temperature\n",
    "    \n",
    "iv):Ratio Scale of Data:\n",
    "    Here apart from categories, rank, difference between Categories, we can also get ratio of two  data.\n",
    "    Example :Marks of two students\n"
   ]
  },
  {
   "cell_type": "raw",
   "id": "21f1ab84-d437-4d20-aecc-d5f558789081",
   "metadata": {},
   "source": [
    "Q6. Why is it important to understand the level of measurement when analyzing data? Provide an\n",
    "example to illustrate your answer.\n",
    "\n",
    "Its important to understand the level of measurement, because it determines the type of statistical analysis that can be conducted and therefore the\n",
    "type of conclusions that can be drawn.\n",
    "\n",
    "Example:\n",
    "Suppose we are having this dataset with us {40,45,45.5,50,60.5,80,75} representing weight of people.\n",
    "We can get to know that we can apply ratio scale data here, and can categorise them ,calculate difference between data, and also the ratio between two data\n",
    "and also give rank to them in ascending or descending order\n",
    "    "
   ]
  },
  {
   "cell_type": "raw",
   "id": "223b2d92-478a-4139-ae43-5a0ea299d65b",
   "metadata": {},
   "source": [
    "Q7. How nominal data type is different from ordinal data type.\n",
    "\n",
    "Nominal data is a group of non-parametric variables, whereas Ordinal data is a group of non-parametric ordered variables.\n",
    "Ordinal data is analyzed by mode, median, quartiles, and percentile, whereas nominal data is analyzed by grouping variables into categories and calculating the distribution mode.\n",
    "Nominal data are categorical, whereas Ordinal data are both categorical and quantitative.\n",
    "Both nominal and ordinal data can be analyzed using percentage and mode.\n"
   ]
  },
  {
   "cell_type": "raw",
   "id": "daea4b36-adff-4e4f-bba7-1d35334035e9",
   "metadata": {},
   "source": [
    "Q8. Which type of plot can be used to display data in terms of range?\n",
    "\n",
    "Histogram can be used for this purpose\n",
    "\n",
    "\n",
    "\n"
   ]
  },
  {
   "cell_type": "raw",
   "id": "29fd4628-29dc-4356-9d32-7dd1cce5671b",
   "metadata": {},
   "source": [
    "Q9. Describe the difference between descriptive and inferential statistics. Give an example of each\n",
    "type of statistics and explain how they are used.\n",
    "\n",
    "i)Dicriptive statistics gives information about raw data regarding its decsription or features, but inferential statistics gives inferences about data.\n",
    "\n",
    "ii)Discrptive describes a situation, whereas inferential explains probability of occurance of an event.\n",
    "\n",
    "iii)We use charts, graphs, and tables to represent descriptive statistics, while we use probability methods for inferential statistics.\n"
   ]
  },
  {
   "cell_type": "raw",
   "id": "fed3c4dc-3a31-42df-a183-a71c3647d3e1",
   "metadata": {},
   "source": [
    "Q10. What are some common measures of central tendency and variability used in statistics? Explain\n",
    "how each measure can be used to describe a dataset.\n",
    "\n",
    "Common measures of central tendency are:\n",
    "i)mean: Its the average of all data present. Sum of all numbers divided by number of elements\n",
    "ii)median: Middle value of dataset when arranged in ascending order\n",
    "iii)mode:Most often occuring data element in dataset\n",
    "\n",
    "Common measures of variability are:\n",
    "i)Variance: It is average squared variation from squared mean. It estimates how far the data is spread from its mean value.\n",
    "ii)Central Deviation: Standard Deviation is a measure which shows how much variation (such as spread, dispersion, spread,) from the mean exists.Its\n",
    "square root of the variance.\n"
   ]
  },
  {
   "cell_type": "code",
   "execution_count": null,
   "id": "d1fe1f26-2f90-433c-80e9-7c719a45f267",
   "metadata": {},
   "outputs": [],
   "source": []
  }
 ],
 "metadata": {
  "kernelspec": {
   "display_name": "Python 3 (ipykernel)",
   "language": "python",
   "name": "python3"
  },
  "language_info": {
   "codemirror_mode": {
    "name": "ipython",
    "version": 3
   },
   "file_extension": ".py",
   "mimetype": "text/x-python",
   "name": "python",
   "nbconvert_exporter": "python",
   "pygments_lexer": "ipython3",
   "version": "3.10.8"
  }
 },
 "nbformat": 4,
 "nbformat_minor": 5
}
