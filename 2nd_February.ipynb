{
 "cells": [
  {
   "cell_type": "markdown",
   "id": "90175aee-fe89-4e79-aba5-1f2abe0ed181",
   "metadata": {},
   "source": [
    "Q1. What are the characteristics of the tuples? Is tuple immutable?\n"
   ]
  },
  {
   "cell_type": "raw",
   "id": "e93c1569-a053-46b2-ad2f-e767fbdd3888",
   "metadata": {},
   "source": [
    "Characteristics of Tuples are:\n",
    "Immutable\n",
    "Heterogenous data allowed\n",
    "Can be used as keys in dictonary\n",
    "Indexed\n",
    "Ordered\n",
    "Duplicate data allowed\n",
    "\n",
    "Tuple is immutable\n",
    "    "
   ]
  },
  {
   "cell_type": "markdown",
   "id": "123055eb-e2c0-4fec-9143-c8006b48f956",
   "metadata": {},
   "source": [
    "Q2. What are the two tuple methods in python? Give an example of each method. Give a reason why\n",
    "tuples have only two in-built methods as compared to Lists.\n"
   ]
  },
  {
   "cell_type": "code",
   "execution_count": 1,
   "id": "0de78a50-2c53-4c9b-9ca3-aa6ad5fbb291",
   "metadata": {},
   "outputs": [
    {
     "name": "stdout",
     "output_type": "stream",
     "text": [
      "3\n",
      "9\n"
     ]
    }
   ],
   "source": [
    "'''Two tuple methods are index and count. We have only two tuples methods as because they are immutable, and cant be changd once created.'''\n",
    "\n",
    "t = (1,2,3,4,5,6,7,8,9)\n",
    "print(t.index(4))\n",
    "print(len(t))"
   ]
  },
  {
   "cell_type": "markdown",
   "id": "bbc5bc64-aff9-4768-ae5b-517b5aa8a12a",
   "metadata": {},
   "source": [
    "Q3. Which collection datatypes in python do not allow duplicate items? Write a code using a set to remove\n",
    "duplicates from the given list.\n",
    "List = [1, 1, 1, 2, 1, 3, 1, 4, 2, 1, 2, 2, 2, 3, 2, 4, 3, 1, 3, 2, 3, 3, 3, 4, 4, 1, 4, 2, 4, 3, 4, 4]\n"
   ]
  },
  {
   "cell_type": "code",
   "execution_count": 2,
   "id": "9c3564a7-67aa-43c7-ab13-6eb1e6c58e52",
   "metadata": {},
   "outputs": [
    {
     "name": "stdout",
     "output_type": "stream",
     "text": [
      "{1, 2, 3, 4}\n"
     ]
    }
   ],
   "source": [
    "'''Set Datatype in python do not allow duplicate items to be created '''\n",
    "List = [1, 1, 1, 2, 1, 3, 1, 4, 2, 1, 2, 2, 2, 3, 2, 4, 3, 1, 3, 2, 3, 3, 3, 4, 4, 1, 4, 2, 4, 3, 4, 4]\n",
    "s = set(List)\n",
    "print(s)"
   ]
  },
  {
   "cell_type": "markdown",
   "id": "db2b5cf4-ce46-4b83-b900-5674ea00544f",
   "metadata": {},
   "source": [
    "Q4. Explain the difference between the union() and update() methods for a set. Give an example of\n",
    "each method.\n"
   ]
  },
  {
   "cell_type": "code",
   "execution_count": 6,
   "id": "bcfa66da-de11-4bad-a97a-eab90a15027a",
   "metadata": {},
   "outputs": [
    {
     "name": "stdout",
     "output_type": "stream",
     "text": [
      "{1, 3, 5, 7, 9, 11}\n",
      "{1, 2, 3, 4, 5, 6, 7, 8, 9, 10, 11}\n"
     ]
    }
   ],
   "source": [
    "'''Union operation is used to create a new listr by combining two sets whereas update is used to add an existing set into another set'''\n",
    "s1 = {2,4,6,8,10}\n",
    "s2 = {1,3,5,7,9,11}\n",
    "s3 = s2.union(s2)\n",
    "s1.update(s2)\n",
    "\n",
    "print(s3)\n",
    "print(s1)\n"
   ]
  },
  {
   "cell_type": "markdown",
   "id": "dcef2264-e165-47fa-8110-6edd4d80973d",
   "metadata": {},
   "source": [
    "Q5. What is a dictionary? Give an example. Also, state whether a dictionary is ordered or unordered.\n"
   ]
  },
  {
   "cell_type": "code",
   "execution_count": 29,
   "id": "ccadb7e7-f15d-449f-a2b9-fed0c6d77baf",
   "metadata": {},
   "outputs": [
    {
     "name": "stdout",
     "output_type": "stream",
     "text": [
      "{'Name': 'Akash', 'Subjects': ('A1', 'A2'), 'Marks': (44, 45)}\n",
      "Name Akash\n",
      "Subjects ('A1', 'A2')\n",
      "Marks (44, 45)\n"
     ]
    }
   ],
   "source": [
    "'''dictionary is a data structure in python, which stores data in form of keys and values\n",
    "As of Python version 3.7, dictionaries are ordered. In Python 3.6 and earlier, dictionaries are unordered. When we say that dictionaries\n",
    "are ordered, it means that the items have a defined order, and that order will not change'''\n",
    "\n",
    "d1 = {\"Name\":\"Akash\",\"Subjects\":('A1','A2'),\"Marks\":(44,45)}\n",
    "print(d1)\n",
    "for i in d1.keys():\n",
    "    if type(d1[i]) != dict:\n",
    "        print(i, d1[i])\n",
    "\n"
   ]
  },
  {
   "cell_type": "markdown",
   "id": "2418e35f-5f4b-4f8a-886f-6ea89fedbc60",
   "metadata": {},
   "source": [
    "Q6. Can we create a nested dictionary? If so, please give an example by creating a simple one-level\n",
    "nested dictionary.\n"
   ]
  },
  {
   "cell_type": "code",
   "execution_count": 35,
   "id": "ad831669-5fe4-4fdd-9b5e-e0a0b1026d72",
   "metadata": {},
   "outputs": [
    {
     "name": "stdout",
     "output_type": "stream",
     "text": [
      "Name Akash\n",
      "--Start Nested Dictinonary--\n",
      "Science 44\n",
      "Math 48\n",
      "English 44\n",
      "--End Nested Dictionary--\n",
      "Grades ('A', 'A', 'B')\n"
     ]
    }
   ],
   "source": [
    "d1 = {\"Name\":\"Akash\",\"Subjects\":{\"Science\":44,\"Math\":48,\"English\":44},\"Grades\":('A','A','B')}\n",
    "\n",
    "\n",
    "for i in d1.keys():\n",
    "    if type(d1[i]) != dict:\n",
    "        print(i, d1[i])\n",
    "    else:\n",
    "        print(\"--Start Nested Dictinonary--\")\n",
    "        for j in d1[i].keys():\n",
    "            print(j,d1[i][j])\n",
    "        print(\"--End Nested Dictionary--\")\n",
    "        "
   ]
  },
  {
   "cell_type": "markdown",
   "id": "132dca10-4aef-4446-8d78-781f6ff2c9b1",
   "metadata": {},
   "source": [
    "Q7. Using setdefault() method, create key named topics in the given dictionary and also add the value of\n",
    "the key as this list ['Python', 'Machine Learning’, 'Deep Learning']\n",
    "dict1 = {'language' : 'Python', 'course': 'Data Science Masters'}\n"
   ]
  },
  {
   "cell_type": "code",
   "execution_count": 16,
   "id": "8102f45a-dbf0-4150-b760-3e95330cb989",
   "metadata": {},
   "outputs": [
    {
     "name": "stdout",
     "output_type": "stream",
     "text": [
      "language:Python\n",
      "course:Data Science Masters\n",
      "topics:['Python', 'Machine Learning’,'Deep Learning']\n",
      "\n",
      "['Python', 'Machine Learning’,'Deep Learning']\n"
     ]
    }
   ],
   "source": [
    "dict1 = {'language' : 'Python', 'course': 'Data Science Masters'}\n",
    "x = dict1.setdefault(\"topics\",\"['Python', 'Machine Learning’,'Deep Learning']\")\n",
    "\n",
    "for i in dict1.keys():\n",
    "    print(\"{}:{}\".format(i, dict1[i]))\n",
    "print()                             \n",
    "print(x)"
   ]
  },
  {
   "cell_type": "markdown",
   "id": "cf3bf6ed-9956-4eb2-9d58-0c8856ff38db",
   "metadata": {},
   "source": [
    "Q8. What are the three view objects in dictionaries? Use the three in-built methods in python to display\n",
    "these three view objects for the given dictionary.\n",
    "dict1 = {'Sport': 'Cricket' , 'Teams': ['India', 'Australia', 'England', 'South Africa', 'Sri Lanka', 'New Zealand']}"
   ]
  },
  {
   "cell_type": "code",
   "execution_count": 6,
   "id": "9851186b-c615-4641-9689-baa827c39201",
   "metadata": {},
   "outputs": [
    {
     "name": "stdout",
     "output_type": "stream",
     "text": [
      "Using keys()\n",
      "Sport:Cricket\n",
      "Teams:['India', 'Australia', 'England', 'South Africa', 'Sri Lanka', 'New Zealand']\n",
      "************\n",
      "Using items()\n",
      "Sport:Cricket\n",
      "Teams:['India', 'Australia', 'England', 'South Africa', 'Sri Lanka', 'New Zealand']\n",
      "************\n",
      "Using values()\n",
      "Cricket\n",
      "['India', 'Australia', 'England', 'South Africa', 'Sri Lanka', 'New Zealand']\n"
     ]
    }
   ],
   "source": [
    "'''The three view objects of dictionary in python are keys, values and items.'''\n",
    "\n",
    "dict1 = {'Sport': 'Cricket' , 'Teams': ['India', 'Australia', 'England', 'South Africa', 'Sri Lanka', 'New Zealand']}\n",
    "print(\"Using keys()\")\n",
    "for i in dict1.keys():\n",
    "    print(\"{}:{}\".format(i,dict1[i]))\n",
    "    \n",
    "print(\"************\\nUsing items()\")\n",
    "for k,v in dict1.items():\n",
    "    print(\"{}:{}\".format(k,v))\n",
    "print(\"************\\nUsing values()\")\n",
    "for i in dict1.values():\n",
    "    print(i)"
   ]
  },
  {
   "cell_type": "code",
   "execution_count": null,
   "id": "331ff9c3-b243-4c3c-83be-aaf523e93e71",
   "metadata": {},
   "outputs": [],
   "source": []
  }
 ],
 "metadata": {
  "kernelspec": {
   "display_name": "Python 3 (ipykernel)",
   "language": "python",
   "name": "python3"
  },
  "language_info": {
   "codemirror_mode": {
    "name": "ipython",
    "version": 3
   },
   "file_extension": ".py",
   "mimetype": "text/x-python",
   "name": "python",
   "nbconvert_exporter": "python",
   "pygments_lexer": "ipython3",
   "version": "3.10.8"
  }
 },
 "nbformat": 4,
 "nbformat_minor": 5
}
