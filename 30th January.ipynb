{
 "cells": [
  {
   "cell_type": "raw",
   "id": "34e2d849-1b74-4220-8dc9-7436bcf3c271",
   "metadata": {},
   "source": [
    "1. Write a program to accept percentage from the user and display the grade according to the following \n",
    "criteria: \n",
    "Marks \n",
    "Grade \n",
    ">90 \n",
    "A \n",
    ">80 and <=90 \n",
    "B \n",
    ">=60 and <=80 \n",
    "C \n",
    "below 60 \n",
    "D "
   ]
  },
  {
   "cell_type": "code",
   "execution_count": 2,
   "id": "9c202a1d-b838-40d3-8623-c88e3942aa62",
   "metadata": {},
   "outputs": [
    {
     "name": "stdin",
     "output_type": "stream",
     "text": [
      "Enter marks 88\n"
     ]
    },
    {
     "name": "stdout",
     "output_type": "stream",
     "text": [
      "Grade :B\n"
     ]
    }
   ],
   "source": [
    "marks = int(input(\"Enter marks\"))\n",
    "if marks >90:\n",
    "    print(\"Grade :A\")\n",
    "elif marks >80:\n",
    "    print(\"Grade :B\")\n",
    "elif marks >60:\n",
    "    print(\"Grade :C\")\n",
    "else:\n",
    "    print(\"Fail\")"
   ]
  },
  {
   "cell_type": "raw",
   "id": "da5319a7-5119-4e97-b22f-60fa0ccd0bd8",
   "metadata": {},
   "source": [
    "2. Write a program to accept the cost price of a bike and display the road tax to be paid according to the \n",
    "following criteria: \n",
    "Tax \n",
    "15% \n",
    "10% \n",
    "5% \n",
    "Cost Price(in Rs) \n",
    ">100000 \n",
    " \n",
    "50000 and <= 100000 \n",
    "<= 50000 \n"
   ]
  },
  {
   "cell_type": "code",
   "execution_count": 3,
   "id": "8bf7a96a-65e2-435c-bd7b-f0ebb5230ed8",
   "metadata": {},
   "outputs": [
    {
     "name": "stdin",
     "output_type": "stream",
     "text": [
      "Enter price of the bike 145000\n"
     ]
    },
    {
     "name": "stdout",
     "output_type": "stream",
     "text": [
      "Tax is 166750.0\n"
     ]
    }
   ],
   "source": [
    "cost = int(input(\"Enter price of the bike\"))\n",
    "if cost >100000:\n",
    "    print(\"Tax is {}\".format(cost*1.15))\n",
    "elif cost >50000:\n",
    "    print(\"Tax is {}\".format(cost*1.1))\n",
    "else:\n",
    "    print(\"Tax is {}\".format(cost*1.05))"
   ]
  },
  {
   "cell_type": "raw",
   "id": "67fac685-c122-4b68-a23c-a33a10040232",
   "metadata": {},
   "source": [
    "3. Accept any city from the user and display monuments of that city. \n",
    "City \n",
    "Delhi \n",
    "Monument \n",
    "Red Fort \n",
    "Taj Mahal \n",
    "Agra \n",
    "Jaipur \n",
    "Jal Mahal \n"
   ]
  },
  {
   "cell_type": "code",
   "execution_count": 5,
   "id": "61f97433-3697-4333-a1c8-1ae740b689e1",
   "metadata": {},
   "outputs": [
    {
     "name": "stdin",
     "output_type": "stream",
     "text": [
      "Enter name of the city Delhi\n"
     ]
    },
    {
     "name": "stdout",
     "output_type": "stream",
     "text": [
      "Monument : Red Fort\n"
     ]
    }
   ],
   "source": [
    "city = input(\"Enter name of the city\")\n",
    "if city == \"Delhi\":\n",
    "    print(\"Monument : Red Fort\")\n",
    "elif city == \"Agra\":\n",
    "    print(\"Monument : Taj Mahal\")\n",
    "elif city == \"Jaipur\":\n",
    "    print(\"Monument : Jal Mahal\")\n",
    "    "
   ]
  },
  {
   "cell_type": "markdown",
   "id": "94d0f1bd-51e9-4908-90eb-9d2cc75a2931",
   "metadata": {},
   "source": [
    "4. Check how many times a given number can be divided by 3 before it is less than or equal to 10. "
   ]
  },
  {
   "cell_type": "code",
   "execution_count": 8,
   "id": "c3807ffb-74cd-4559-993f-e409e970c602",
   "metadata": {},
   "outputs": [
    {
     "name": "stdin",
     "output_type": "stream",
     "text": [
      "Enter number 99\n"
     ]
    },
    {
     "name": "stdout",
     "output_type": "stream",
     "text": [
      "3\n"
     ]
    }
   ],
   "source": [
    "number = int(input(\"Enter number\"))\n",
    "count = 0\n",
    "while number >10:\n",
    "    number//=3\n",
    "    count += 1\n",
    "print(count)"
   ]
  },
  {
   "cell_type": "markdown",
   "id": "ff37e10b-6628-4874-b74d-8776d26a268a",
   "metadata": {},
   "source": [
    "5. Why and When to Use while Loop in Python give a detailed description with example "
   ]
  },
  {
   "cell_type": "raw",
   "id": "4cc09292-08f5-4c78-b58b-44dda42454ce",
   "metadata": {},
   "source": [
    "We use while loop when we have a set of statements until a particular condition is True"
   ]
  },
  {
   "cell_type": "code",
   "execution_count": 9,
   "id": "7a543a33-1739-44e6-aa65-dfc41b9ade95",
   "metadata": {},
   "outputs": [
    {
     "name": "stdin",
     "output_type": "stream",
     "text": [
      "Enter a number 44\n"
     ]
    },
    {
     "name": "stdout",
     "output_type": "stream",
     "text": [
      "44\n",
      "22\n"
     ]
    }
   ],
   "source": [
    "number  = int(input(\"Enter a number\"))\n",
    "while number%2 == 0:\n",
    "    print(number)\n",
    "    number //=2"
   ]
  },
  {
   "cell_type": "markdown",
   "id": "706a4634-3f4e-49fe-8489-4dd4fb073678",
   "metadata": {},
   "source": [
    "6. Use nested while loop to print 3 different pattern.\n"
   ]
  },
  {
   "cell_type": "code",
   "execution_count": 14,
   "id": "05e5215d-4c7d-4985-9a1b-c778d7a3a543",
   "metadata": {},
   "outputs": [
    {
     "name": "stdin",
     "output_type": "stream",
     "text": [
      "Enter number of sides 6\n"
     ]
    },
    {
     "name": "stdout",
     "output_type": "stream",
     "text": [
      "6 6 6 6 6 6 \n",
      "6 6 6 6 6 6 \n",
      "6 6 6 6 6 6 \n",
      "6 6 6 6 6 6 \n",
      "6 6 6 6 6 6 \n",
      "6 6 6 6 6 6 \n"
     ]
    }
   ],
   "source": [
    "#Pattern 1\n",
    "num = int(input(\"Enter number of sides\"))\n",
    "for i in range(num):\n",
    "    for j in range(num):\n",
    "        print(num, end = \" \")\n",
    "    print()"
   ]
  },
  {
   "cell_type": "code",
   "execution_count": 17,
   "id": "cd1ddf4e-8f74-4fe9-a6ae-20a45f1f57db",
   "metadata": {},
   "outputs": [
    {
     "name": "stdin",
     "output_type": "stream",
     "text": [
      "Enter number of sides 6\n",
      "Enter character to be printed B\n"
     ]
    },
    {
     "name": "stdout",
     "output_type": "stream",
     "text": [
      "B B B B B B \n",
      "B B B B B B \n",
      "B B B B B B \n",
      "B B B B B B \n",
      "B B B B B B \n",
      "B B B B B B \n"
     ]
    }
   ],
   "source": [
    "#Pattern 2\n",
    "num = int(input(\"Enter number of sides\"))\n",
    "char = input(\"Enter character to be printed\")\n",
    "for i in range(num):\n",
    "    for j in range(num):\n",
    "        print(char, end = \" \")\n",
    "    print()"
   ]
  },
  {
   "cell_type": "code",
   "execution_count": 19,
   "id": "ebb0066e-5e60-4bdb-abbb-f6092d27be6a",
   "metadata": {},
   "outputs": [
    {
     "name": "stdin",
     "output_type": "stream",
     "text": [
      "Enter number of sides 6\n"
     ]
    },
    {
     "name": "stdout",
     "output_type": "stream",
     "text": [
      "6 \n",
      "6 6 \n",
      "6 6 6 \n",
      "6 6 6 6 \n",
      "6 6 6 6 6 \n",
      "6 6 6 6 6 6 \n"
     ]
    }
   ],
   "source": [
    "#Pattern 3\n",
    "num = int(input(\"Enter number of sides\"))\n",
    "for i in range(num):\n",
    "    for j in range(i+1):\n",
    "        print(num, end = \" \")\n",
    "    print()\n"
   ]
  },
  {
   "cell_type": "markdown",
   "id": "73a5f849-16f5-4fcf-a63b-5e69dbb2170d",
   "metadata": {},
   "source": [
    "7. Reverse a while loop to display numbers from 10 to 1."
   ]
  },
  {
   "cell_type": "code",
   "execution_count": 21,
   "id": "ad3bfabf-0788-4dab-b652-89d498080d0f",
   "metadata": {},
   "outputs": [
    {
     "name": "stdout",
     "output_type": "stream",
     "text": [
      "10 9 8 7 6 5 4 3 2 1 "
     ]
    }
   ],
   "source": [
    "num = 10\n",
    "while num>=1:\n",
    "    print(num, end = \" \")\n",
    "    num-=1"
   ]
  },
  {
   "cell_type": "markdown",
   "id": "670b2782-b084-4673-814f-e7ab36be32bd",
   "metadata": {},
   "source": [
    "8. Reverse a while loop to display numbers from 10 to 1 "
   ]
  },
  {
   "cell_type": "code",
   "execution_count": 22,
   "id": "783b75bf-aadc-4388-9501-4cb30c2ff20b",
   "metadata": {},
   "outputs": [
    {
     "name": "stdout",
     "output_type": "stream",
     "text": [
      "10 9 8 7 6 5 4 3 2 1 "
     ]
    }
   ],
   "source": [
    "num = 10\n",
    "for i in range(10,0,-1):\n",
    "    print(i, end = \" \")"
   ]
  },
  {
   "cell_type": "code",
   "execution_count": null,
   "id": "9da066a9-64a9-41e8-bdc1-e096ada58ea1",
   "metadata": {},
   "outputs": [],
   "source": []
  }
 ],
 "metadata": {
  "kernelspec": {
   "display_name": "Python 3 (ipykernel)",
   "language": "python",
   "name": "python3"
  },
  "language_info": {
   "codemirror_mode": {
    "name": "ipython",
    "version": 3
   },
   "file_extension": ".py",
   "mimetype": "text/x-python",
   "name": "python",
   "nbconvert_exporter": "python",
   "pygments_lexer": "ipython3",
   "version": "3.10.8"
  }
 },
 "nbformat": 4,
 "nbformat_minor": 5
}
