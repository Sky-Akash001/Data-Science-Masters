{
 "cells": [
  {
   "cell_type": "code",
   "execution_count": 2,
   "id": "499dc07b-0f63-4369-83fc-192168a25774",
   "metadata": {},
   "outputs": [
    {
     "data": {
      "text/plain": [
       "10"
      ]
     },
     "execution_count": 2,
     "metadata": {},
     "output_type": "execute_result"
    }
   ],
   "source": [
    "a = 10\n",
    "a"
   ]
  },
  {
   "cell_type": "code",
   "execution_count": null,
   "id": "b763ffd6-14a3-4092-ae73-adda8c482416",
   "metadata": {},
   "outputs": [],
   "source": []
  },
  {
   "cell_type": "markdown",
   "id": "7a417790-4d90-4b0d-9156-acaf58c8a41c",
   "metadata": {},
   "source": [
    "name = \"Akash\""
   ]
  },
  {
   "cell_type": "code",
   "execution_count": 5,
   "id": "a6b0bc29-920c-43a4-8c61-65ca87c951fb",
   "metadata": {},
   "outputs": [
    {
     "name": "stdout",
     "output_type": "stream",
     "text": [
      "My name is Akash\n"
     ]
    }
   ],
   "source": [
    "name = \"Akash\"\n",
    "print(\"My name is {}\".format(name))"
   ]
  },
  {
   "cell_type": "code",
   "execution_count": 7,
   "id": "ab25731f-8e59-46d3-a953-6f0a475d19c6",
   "metadata": {},
   "outputs": [
    {
     "name": "stdout",
     "output_type": "stream",
     "text": [
      "My name is Akash and I am from CSE\n"
     ]
    }
   ],
   "source": [
    "branch = \"CSE\"\n",
    "print(f\"My name is {name} and I am from {branch}\")"
   ]
  },
  {
   "cell_type": "markdown",
   "id": "eac36e64-8f21-4e6a-89cf-045c166b4e35",
   "metadata": {},
   "source": [
    "Comments and Multiline "
   ]
  },
  {
   "cell_type": "code",
   "execution_count": 8,
   "id": "d136ff15-a00e-4006-b09e-7328b5314d00",
   "metadata": {},
   "outputs": [
    {
     "data": {
      "text/plain": [
       "'This is\\nand example of \\n\\nMultiline \\nComment'"
      ]
     },
     "execution_count": 8,
     "metadata": {},
     "output_type": "execute_result"
    }
   ],
   "source": [
    "\"\"\"This is\n",
    "and example of \n",
    "\n",
    "Multiline \n",
    "Comment\"\"\""
   ]
  },
  {
   "cell_type": "code",
   "execution_count": 9,
   "id": "10a52591-4c35-4e56-ba57-162ebef54469",
   "metadata": {},
   "outputs": [
    {
     "data": {
      "text/plain": [
       "str"
      ]
     },
     "execution_count": 9,
     "metadata": {},
     "output_type": "execute_result"
    }
   ],
   "source": [
    "type(name)"
   ]
  },
  {
   "cell_type": "code",
   "execution_count": 10,
   "id": "057c288a-c71c-4442-80a3-7139dc8ffad9",
   "metadata": {},
   "outputs": [],
   "source": [
    "num = \"123\""
   ]
  },
  {
   "cell_type": "code",
   "execution_count": 11,
   "id": "22fb9c13-9aaa-4ac5-bf5a-1c863c635b5a",
   "metadata": {},
   "outputs": [
    {
     "data": {
      "text/plain": [
       "str"
      ]
     },
     "execution_count": 11,
     "metadata": {},
     "output_type": "execute_result"
    }
   ],
   "source": [
    "type(num)"
   ]
  },
  {
   "cell_type": "code",
   "execution_count": 14,
   "id": "f7dbb8f4-e5f7-4fd6-acec-3e632f4d0755",
   "metadata": {},
   "outputs": [],
   "source": [
    "num = int(num)"
   ]
  },
  {
   "cell_type": "code",
   "execution_count": 15,
   "id": "b3e00373-06df-4b1e-92fd-a587d7dc1b76",
   "metadata": {},
   "outputs": [
    {
     "data": {
      "text/plain": [
       "int"
      ]
     },
     "execution_count": 15,
     "metadata": {},
     "output_type": "execute_result"
    }
   ],
   "source": [
    "type(num)"
   ]
  },
  {
   "cell_type": "code",
   "execution_count": 16,
   "id": "655ca413-e4c5-40cc-9b10-b6707fd79b58",
   "metadata": {},
   "outputs": [
    {
     "data": {
      "text/plain": [
       "1"
      ]
     },
     "execution_count": 16,
     "metadata": {},
     "output_type": "execute_result"
    }
   ],
   "source": [
    "int(True)"
   ]
  },
  {
   "cell_type": "code",
   "execution_count": 17,
   "id": "029f95eb-4783-4e54-923d-fdf337e9db93",
   "metadata": {},
   "outputs": [
    {
     "data": {
      "text/plain": [
       "True"
      ]
     },
     "execution_count": 17,
     "metadata": {},
     "output_type": "execute_result"
    }
   ],
   "source": [
    "bool(\"Akash\")"
   ]
  },
  {
   "cell_type": "code",
   "execution_count": 18,
   "id": "69d28b0e-fab9-46e9-b68e-dc8af8d73473",
   "metadata": {},
   "outputs": [],
   "source": [
    "booll = True"
   ]
  },
  {
   "cell_type": "code",
   "execution_count": 20,
   "id": "0bc819e0-35dd-4710-b152-2af5a18b0bff",
   "metadata": {},
   "outputs": [
    {
     "name": "stdout",
     "output_type": "stream",
     "text": [
      "True\n"
     ]
    }
   ],
   "source": [
    "if booll:\n",
    "    print(True)\n",
    "else:\n",
    "    print(False)"
   ]
  },
  {
   "cell_type": "code",
   "execution_count": 21,
   "id": "c5e949cb-3eda-4ccc-88f5-a26ab6bf8d88",
   "metadata": {},
   "outputs": [],
   "source": [
    "boll = False"
   ]
  },
  {
   "cell_type": "code",
   "execution_count": 23,
   "id": "78641574-4316-46ee-a9e6-332686ee6675",
   "metadata": {},
   "outputs": [
    {
     "name": "stdout",
     "output_type": "stream",
     "text": [
      "False\n"
     ]
    }
   ],
   "source": [
    "if boll:\n",
    "    print( True)\n",
    "else:\n",
    "    print (False)"
   ]
  },
  {
   "cell_type": "code",
   "execution_count": 24,
   "id": "18437bf4-205d-4379-bfa4-cc9ad3eb9e50",
   "metadata": {},
   "outputs": [
    {
     "name": "stdout",
     "output_type": "stream",
     "text": [
      "MilkShake\n"
     ]
    }
   ],
   "source": [
    "print(\"Milk\" + \"Shake\")"
   ]
  },
  {
   "cell_type": "code",
   "execution_count": 25,
   "id": "89fc2d31-bfaa-453b-96fa-3dc451c8d3f6",
   "metadata": {},
   "outputs": [
    {
     "name": "stdout",
     "output_type": "stream",
     "text": [
      "MangoMangoMangoMangoMangoMangoMangoMangoMangoMango\n"
     ]
    }
   ],
   "source": [
    "print(\"Mango\"*10)"
   ]
  },
  {
   "cell_type": "code",
   "execution_count": 26,
   "id": "65be50e5-720d-44fd-8ca6-82db627e1ad1",
   "metadata": {},
   "outputs": [
    {
     "name": "stdout",
     "output_type": "stream",
     "text": [
      "Mango Mango Mango Mango Mango Mango Mango Mango Mango Mango \n"
     ]
    }
   ],
   "source": [
    "print(\"Mango \"*10)"
   ]
  },
  {
   "cell_type": "code",
   "execution_count": null,
   "id": "e97be8ff-1230-4623-b892-e5c5c4626098",
   "metadata": {},
   "outputs": [],
   "source": []
  }
 ],
 "metadata": {
  "kernelspec": {
   "display_name": "Python 3 (ipykernel)",
   "language": "python",
   "name": "python3"
  },
  "language_info": {
   "codemirror_mode": {
    "name": "ipython",
    "version": 3
   },
   "file_extension": ".py",
   "mimetype": "text/x-python",
   "name": "python",
   "nbconvert_exporter": "python",
   "pygments_lexer": "ipython3",
   "version": "3.10.8"
  }
 },
 "nbformat": 4,
 "nbformat_minor": 5
}
